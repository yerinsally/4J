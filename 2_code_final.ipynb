{
  "nbformat": 4,
  "nbformat_minor": 0,
  "metadata": {
    "colab": {
      "provenance": [],
      "toc_visible": true,
      "authorship_tag": "ABX9TyNQYc+cdg55hJLDD5KB9BLM",
      "include_colab_link": true
    },
    "kernelspec": {
      "name": "python3",
      "display_name": "Python 3"
    },
    "language_info": {
      "name": "python"
    }
  },
  "cells": [
    {
      "cell_type": "markdown",
      "metadata": {
        "id": "view-in-github",
        "colab_type": "text"
      },
      "source": [
        "<a href=\"https://colab.research.google.com/github/yerinsally/4J/blob/main/2_code_final.ipynb\" target=\"_parent\"><img src=\"https://colab.research.google.com/assets/colab-badge.svg\" alt=\"Open In Colab\"/></a>"
      ]
    },
    {
      "cell_type": "markdown",
      "source": [
        "## 1. 자료 불러오기 및 간단한 시각화"
      ],
      "metadata": {
        "id": "iK_CVjfz4oh_"
      }
    },
    {
      "cell_type": "code",
      "execution_count": 2,
      "metadata": {
        "colab": {
          "base_uri": "https://localhost:8080/"
        },
        "id": "jS7PeGHE0pfX",
        "outputId": "17f12bc0-11cd-4738-d817-013986f00878"
      },
      "outputs": [
        {
          "output_type": "stream",
          "name": "stdout",
          "text": [
            "Mounted at /content/drive\n"
          ]
        }
      ],
      "source": [
        "import os\n",
        "import random\n",
        "import pandas as pd\n",
        "import numpy as np\n",
        "import seaborn as sns\n",
        "import matplotlib.pyplot as plt\n",
        "\n",
        "import warnings\n",
        "warnings.filterwarnings(\"ignore\")\n",
        "\n",
        "from google.colab import drive\n",
        "drive.mount('/content/drive')"
      ]
    },
    {
      "cell_type": "code",
      "source": [
        "train = pd.read_csv('/content/drive/MyDrive/Colab Notebooks/4J/train.csv')\n",
        "train"
      ],
      "metadata": {
        "colab": {
          "base_uri": "https://localhost:8080/",
          "height": 505
        },
        "id": "z6l7sqCq1Sun",
        "outputId": "cba7fad5-0b63-4964-9232-2896d52d1f98"
      },
      "execution_count": 3,
      "outputs": [
        {
          "output_type": "execute_result",
          "data": {
            "text/plain": [
              "                ID  danceability  energy  key  loudness  speechiness  \\\n",
              "0      TRAIN_00000        0.3341  0.9231   10    0.8540       0.3797   \n",
              "1      TRAIN_00001        0.6344  0.5955   10    0.2826       0.1378   \n",
              "2      TRAIN_00002        0.3983  0.1107    8    0.2459       0.0247   \n",
              "3      TRAIN_00003        0.3139  0.9702    2    0.9252       0.9590   \n",
              "4      TRAIN_00004        0.0735  0.9452    5    0.7702       0.1397   \n",
              "...            ...           ...     ...  ...       ...          ...   \n",
              "25378  TRAIN_25378        0.8814  0.3398    6    0.4602       0.3825   \n",
              "25379  TRAIN_25379        0.7505  0.5657    0    0.6682       0.1038   \n",
              "25380  TRAIN_25380        0.2520  0.7617    8    0.4928       0.0410   \n",
              "25381  TRAIN_25381        0.6202  0.3455    0    0.6499       0.7960   \n",
              "25382  TRAIN_25382        0.8963  0.4435    9    0.6595       0.1336   \n",
              "\n",
              "       acousticness  instrumentalness  liveness  valence   tempo  duration  \\\n",
              "0            0.0080            0.0002    0.7697   0.7902  0.5391       175   \n",
              "1            0.0000            0.7137    0.1597   0.4162  0.3043       513   \n",
              "2            0.7740            0.0000    0.5105   0.4291  0.2324       151   \n",
              "3            0.0371            0.3015    0.2539   0.0577  0.5406       246   \n",
              "4            0.2583            0.0015    0.1774   0.1128  0.3176       229   \n",
              "...             ...               ...       ...      ...     ...       ...   \n",
              "25378        0.4505            0.0000    0.4222   0.8753  0.4081        88   \n",
              "25379        0.1281            0.0000    0.0596   0.9583  0.4273       123   \n",
              "25380        0.0003            0.8395    0.0843   0.1372  0.7828       353   \n",
              "25381        0.4818            0.0000    0.2007   0.0194  0.9756       120   \n",
              "25382        0.4673            0.0000    0.2971   0.3320  0.4069       228   \n",
              "\n",
              "                 genre  \n",
              "0                 trap  \n",
              "1               techno  \n",
              "2           Trap Metal  \n",
              "3                 trap  \n",
              "4            Dark Trap  \n",
              "...                ...  \n",
              "25378  Underground Rap  \n",
              "25379       Trap Metal  \n",
              "25380              dnb  \n",
              "25381        Dark Trap  \n",
              "25382              Rap  \n",
              "\n",
              "[25383 rows x 13 columns]"
            ],
            "text/html": [
              "\n",
              "  <div id=\"df-1ff04abc-a0ad-495e-9f3d-3bfe35404999\">\n",
              "    <div class=\"colab-df-container\">\n",
              "      <div>\n",
              "<style scoped>\n",
              "    .dataframe tbody tr th:only-of-type {\n",
              "        vertical-align: middle;\n",
              "    }\n",
              "\n",
              "    .dataframe tbody tr th {\n",
              "        vertical-align: top;\n",
              "    }\n",
              "\n",
              "    .dataframe thead th {\n",
              "        text-align: right;\n",
              "    }\n",
              "</style>\n",
              "<table border=\"1\" class=\"dataframe\">\n",
              "  <thead>\n",
              "    <tr style=\"text-align: right;\">\n",
              "      <th></th>\n",
              "      <th>ID</th>\n",
              "      <th>danceability</th>\n",
              "      <th>energy</th>\n",
              "      <th>key</th>\n",
              "      <th>loudness</th>\n",
              "      <th>speechiness</th>\n",
              "      <th>acousticness</th>\n",
              "      <th>instrumentalness</th>\n",
              "      <th>liveness</th>\n",
              "      <th>valence</th>\n",
              "      <th>tempo</th>\n",
              "      <th>duration</th>\n",
              "      <th>genre</th>\n",
              "    </tr>\n",
              "  </thead>\n",
              "  <tbody>\n",
              "    <tr>\n",
              "      <th>0</th>\n",
              "      <td>TRAIN_00000</td>\n",
              "      <td>0.3341</td>\n",
              "      <td>0.9231</td>\n",
              "      <td>10</td>\n",
              "      <td>0.8540</td>\n",
              "      <td>0.3797</td>\n",
              "      <td>0.0080</td>\n",
              "      <td>0.0002</td>\n",
              "      <td>0.7697</td>\n",
              "      <td>0.7902</td>\n",
              "      <td>0.5391</td>\n",
              "      <td>175</td>\n",
              "      <td>trap</td>\n",
              "    </tr>\n",
              "    <tr>\n",
              "      <th>1</th>\n",
              "      <td>TRAIN_00001</td>\n",
              "      <td>0.6344</td>\n",
              "      <td>0.5955</td>\n",
              "      <td>10</td>\n",
              "      <td>0.2826</td>\n",
              "      <td>0.1378</td>\n",
              "      <td>0.0000</td>\n",
              "      <td>0.7137</td>\n",
              "      <td>0.1597</td>\n",
              "      <td>0.4162</td>\n",
              "      <td>0.3043</td>\n",
              "      <td>513</td>\n",
              "      <td>techno</td>\n",
              "    </tr>\n",
              "    <tr>\n",
              "      <th>2</th>\n",
              "      <td>TRAIN_00002</td>\n",
              "      <td>0.3983</td>\n",
              "      <td>0.1107</td>\n",
              "      <td>8</td>\n",
              "      <td>0.2459</td>\n",
              "      <td>0.0247</td>\n",
              "      <td>0.7740</td>\n",
              "      <td>0.0000</td>\n",
              "      <td>0.5105</td>\n",
              "      <td>0.4291</td>\n",
              "      <td>0.2324</td>\n",
              "      <td>151</td>\n",
              "      <td>Trap Metal</td>\n",
              "    </tr>\n",
              "    <tr>\n",
              "      <th>3</th>\n",
              "      <td>TRAIN_00003</td>\n",
              "      <td>0.3139</td>\n",
              "      <td>0.9702</td>\n",
              "      <td>2</td>\n",
              "      <td>0.9252</td>\n",
              "      <td>0.9590</td>\n",
              "      <td>0.0371</td>\n",
              "      <td>0.3015</td>\n",
              "      <td>0.2539</td>\n",
              "      <td>0.0577</td>\n",
              "      <td>0.5406</td>\n",
              "      <td>246</td>\n",
              "      <td>trap</td>\n",
              "    </tr>\n",
              "    <tr>\n",
              "      <th>4</th>\n",
              "      <td>TRAIN_00004</td>\n",
              "      <td>0.0735</td>\n",
              "      <td>0.9452</td>\n",
              "      <td>5</td>\n",
              "      <td>0.7702</td>\n",
              "      <td>0.1397</td>\n",
              "      <td>0.2583</td>\n",
              "      <td>0.0015</td>\n",
              "      <td>0.1774</td>\n",
              "      <td>0.1128</td>\n",
              "      <td>0.3176</td>\n",
              "      <td>229</td>\n",
              "      <td>Dark Trap</td>\n",
              "    </tr>\n",
              "    <tr>\n",
              "      <th>...</th>\n",
              "      <td>...</td>\n",
              "      <td>...</td>\n",
              "      <td>...</td>\n",
              "      <td>...</td>\n",
              "      <td>...</td>\n",
              "      <td>...</td>\n",
              "      <td>...</td>\n",
              "      <td>...</td>\n",
              "      <td>...</td>\n",
              "      <td>...</td>\n",
              "      <td>...</td>\n",
              "      <td>...</td>\n",
              "      <td>...</td>\n",
              "    </tr>\n",
              "    <tr>\n",
              "      <th>25378</th>\n",
              "      <td>TRAIN_25378</td>\n",
              "      <td>0.8814</td>\n",
              "      <td>0.3398</td>\n",
              "      <td>6</td>\n",
              "      <td>0.4602</td>\n",
              "      <td>0.3825</td>\n",
              "      <td>0.4505</td>\n",
              "      <td>0.0000</td>\n",
              "      <td>0.4222</td>\n",
              "      <td>0.8753</td>\n",
              "      <td>0.4081</td>\n",
              "      <td>88</td>\n",
              "      <td>Underground Rap</td>\n",
              "    </tr>\n",
              "    <tr>\n",
              "      <th>25379</th>\n",
              "      <td>TRAIN_25379</td>\n",
              "      <td>0.7505</td>\n",
              "      <td>0.5657</td>\n",
              "      <td>0</td>\n",
              "      <td>0.6682</td>\n",
              "      <td>0.1038</td>\n",
              "      <td>0.1281</td>\n",
              "      <td>0.0000</td>\n",
              "      <td>0.0596</td>\n",
              "      <td>0.9583</td>\n",
              "      <td>0.4273</td>\n",
              "      <td>123</td>\n",
              "      <td>Trap Metal</td>\n",
              "    </tr>\n",
              "    <tr>\n",
              "      <th>25380</th>\n",
              "      <td>TRAIN_25380</td>\n",
              "      <td>0.2520</td>\n",
              "      <td>0.7617</td>\n",
              "      <td>8</td>\n",
              "      <td>0.4928</td>\n",
              "      <td>0.0410</td>\n",
              "      <td>0.0003</td>\n",
              "      <td>0.8395</td>\n",
              "      <td>0.0843</td>\n",
              "      <td>0.1372</td>\n",
              "      <td>0.7828</td>\n",
              "      <td>353</td>\n",
              "      <td>dnb</td>\n",
              "    </tr>\n",
              "    <tr>\n",
              "      <th>25381</th>\n",
              "      <td>TRAIN_25381</td>\n",
              "      <td>0.6202</td>\n",
              "      <td>0.3455</td>\n",
              "      <td>0</td>\n",
              "      <td>0.6499</td>\n",
              "      <td>0.7960</td>\n",
              "      <td>0.4818</td>\n",
              "      <td>0.0000</td>\n",
              "      <td>0.2007</td>\n",
              "      <td>0.0194</td>\n",
              "      <td>0.9756</td>\n",
              "      <td>120</td>\n",
              "      <td>Dark Trap</td>\n",
              "    </tr>\n",
              "    <tr>\n",
              "      <th>25382</th>\n",
              "      <td>TRAIN_25382</td>\n",
              "      <td>0.8963</td>\n",
              "      <td>0.4435</td>\n",
              "      <td>9</td>\n",
              "      <td>0.6595</td>\n",
              "      <td>0.1336</td>\n",
              "      <td>0.4673</td>\n",
              "      <td>0.0000</td>\n",
              "      <td>0.2971</td>\n",
              "      <td>0.3320</td>\n",
              "      <td>0.4069</td>\n",
              "      <td>228</td>\n",
              "      <td>Rap</td>\n",
              "    </tr>\n",
              "  </tbody>\n",
              "</table>\n",
              "<p>25383 rows × 13 columns</p>\n",
              "</div>\n",
              "      <button class=\"colab-df-convert\" onclick=\"convertToInteractive('df-1ff04abc-a0ad-495e-9f3d-3bfe35404999')\"\n",
              "              title=\"Convert this dataframe to an interactive table.\"\n",
              "              style=\"display:none;\">\n",
              "        \n",
              "  <svg xmlns=\"http://www.w3.org/2000/svg\" height=\"24px\"viewBox=\"0 0 24 24\"\n",
              "       width=\"24px\">\n",
              "    <path d=\"M0 0h24v24H0V0z\" fill=\"none\"/>\n",
              "    <path d=\"M18.56 5.44l.94 2.06.94-2.06 2.06-.94-2.06-.94-.94-2.06-.94 2.06-2.06.94zm-11 1L8.5 8.5l.94-2.06 2.06-.94-2.06-.94L8.5 2.5l-.94 2.06-2.06.94zm10 10l.94 2.06.94-2.06 2.06-.94-2.06-.94-.94-2.06-.94 2.06-2.06.94z\"/><path d=\"M17.41 7.96l-1.37-1.37c-.4-.4-.92-.59-1.43-.59-.52 0-1.04.2-1.43.59L10.3 9.45l-7.72 7.72c-.78.78-.78 2.05 0 2.83L4 21.41c.39.39.9.59 1.41.59.51 0 1.02-.2 1.41-.59l7.78-7.78 2.81-2.81c.8-.78.8-2.07 0-2.86zM5.41 20L4 18.59l7.72-7.72 1.47 1.35L5.41 20z\"/>\n",
              "  </svg>\n",
              "      </button>\n",
              "      \n",
              "  <style>\n",
              "    .colab-df-container {\n",
              "      display:flex;\n",
              "      flex-wrap:wrap;\n",
              "      gap: 12px;\n",
              "    }\n",
              "\n",
              "    .colab-df-convert {\n",
              "      background-color: #E8F0FE;\n",
              "      border: none;\n",
              "      border-radius: 50%;\n",
              "      cursor: pointer;\n",
              "      display: none;\n",
              "      fill: #1967D2;\n",
              "      height: 32px;\n",
              "      padding: 0 0 0 0;\n",
              "      width: 32px;\n",
              "    }\n",
              "\n",
              "    .colab-df-convert:hover {\n",
              "      background-color: #E2EBFA;\n",
              "      box-shadow: 0px 1px 2px rgba(60, 64, 67, 0.3), 0px 1px 3px 1px rgba(60, 64, 67, 0.15);\n",
              "      fill: #174EA6;\n",
              "    }\n",
              "\n",
              "    [theme=dark] .colab-df-convert {\n",
              "      background-color: #3B4455;\n",
              "      fill: #D2E3FC;\n",
              "    }\n",
              "\n",
              "    [theme=dark] .colab-df-convert:hover {\n",
              "      background-color: #434B5C;\n",
              "      box-shadow: 0px 1px 3px 1px rgba(0, 0, 0, 0.15);\n",
              "      filter: drop-shadow(0px 1px 2px rgba(0, 0, 0, 0.3));\n",
              "      fill: #FFFFFF;\n",
              "    }\n",
              "  </style>\n",
              "\n",
              "      <script>\n",
              "        const buttonEl =\n",
              "          document.querySelector('#df-1ff04abc-a0ad-495e-9f3d-3bfe35404999 button.colab-df-convert');\n",
              "        buttonEl.style.display =\n",
              "          google.colab.kernel.accessAllowed ? 'block' : 'none';\n",
              "\n",
              "        async function convertToInteractive(key) {\n",
              "          const element = document.querySelector('#df-1ff04abc-a0ad-495e-9f3d-3bfe35404999');\n",
              "          const dataTable =\n",
              "            await google.colab.kernel.invokeFunction('convertToInteractive',\n",
              "                                                     [key], {});\n",
              "          if (!dataTable) return;\n",
              "\n",
              "          const docLinkHtml = 'Like what you see? Visit the ' +\n",
              "            '<a target=\"_blank\" href=https://colab.research.google.com/notebooks/data_table.ipynb>data table notebook</a>'\n",
              "            + ' to learn more about interactive tables.';\n",
              "          element.innerHTML = '';\n",
              "          dataTable['output_type'] = 'display_data';\n",
              "          await google.colab.output.renderOutput(dataTable, element);\n",
              "          const docLink = document.createElement('div');\n",
              "          docLink.innerHTML = docLinkHtml;\n",
              "          element.appendChild(docLink);\n",
              "        }\n",
              "      </script>\n",
              "    </div>\n",
              "  </div>\n",
              "  "
            ]
          },
          "metadata": {},
          "execution_count": 3
        }
      ]
    },
    {
      "cell_type": "code",
      "source": [
        "train.info()"
      ],
      "metadata": {
        "colab": {
          "base_uri": "https://localhost:8080/"
        },
        "id": "2sDPUVl92xYY",
        "outputId": "dee0588b-ee11-4d31-9949-8be8e5fd7de7"
      },
      "execution_count": 4,
      "outputs": [
        {
          "output_type": "stream",
          "name": "stdout",
          "text": [
            "<class 'pandas.core.frame.DataFrame'>\n",
            "RangeIndex: 25383 entries, 0 to 25382\n",
            "Data columns (total 13 columns):\n",
            " #   Column            Non-Null Count  Dtype  \n",
            "---  ------            --------------  -----  \n",
            " 0   ID                25383 non-null  object \n",
            " 1   danceability      25383 non-null  float64\n",
            " 2   energy            25383 non-null  float64\n",
            " 3   key               25383 non-null  int64  \n",
            " 4   loudness          25383 non-null  float64\n",
            " 5   speechiness       25383 non-null  float64\n",
            " 6   acousticness      25383 non-null  float64\n",
            " 7   instrumentalness  25383 non-null  float64\n",
            " 8   liveness          25383 non-null  float64\n",
            " 9   valence           25383 non-null  float64\n",
            " 10  tempo             25383 non-null  float64\n",
            " 11  duration          25383 non-null  int64  \n",
            " 12  genre             25383 non-null  object \n",
            "dtypes: float64(9), int64(2), object(2)\n",
            "memory usage: 2.5+ MB\n"
          ]
        }
      ]
    },
    {
      "cell_type": "code",
      "source": [
        "# target인 genre 분포 간단한 시각화\n",
        "fig, ax = plt.subplots(figsize=(10,5), dpi = 100)\n",
        "\n",
        "sns.countplot(x = train['genre'])\n",
        "plt.xticks(rotation = 45)\n",
        "plt.show()"
      ],
      "metadata": {
        "colab": {
          "base_uri": "https://localhost:8080/",
          "height": 540
        },
        "id": "cN4Eo1z22xWB",
        "outputId": "94bebfee-df4b-4ae6-b52f-6ec8cf7ab526"
      },
      "execution_count": 5,
      "outputs": [
        {
          "output_type": "display_data",
          "data": {
            "text/plain": [
              "<Figure size 1000x500 with 1 Axes>"
            ],
            "image/png": "[encoded data removed]"
          },
          "metadata": {
            "needs_background": "light"
          }
        }
      ]
    },
    {
      "cell_type": "code",
      "source": [
        "# feature 분포 확인\n",
        "plt.rcParams['figure.figsize'] = [20, 10]\n",
        "train.hist(figsize=(25,20));"
      ],
      "metadata": {
        "colab": {
          "base_uri": "https://localhost:8080/",
          "height": 940
        },
        "id": "2PTyeHkw2xTo",
        "outputId": "40628be8-d4d4-4cb7-d1f5-c8df413a58a3"
      },
      "execution_count": 6,
      "outputs": [
        {
          "output_type": "display_data",
          "data": {
            "text/plain": [
              "<Figure size 1800x1440 with 12 Axes>"
            ],
            "image/png": "[encoded data removed]"
          },
          "metadata": {
            "needs_background": "light"
          }
        }
      ]
    },
    {
      "cell_type": "code",
      "source": [
        "# feature의 상관관계 확인\n",
        "plt.figure(figsize = (10,10))\n",
        "\n",
        "df = train.corr()\n",
        "sns.heatmap(df, annot=True)"
      ],
      "metadata": {
        "colab": {
          "base_uri": "https://localhost:8080/",
          "height": 690
        },
        "id": "K54VAxmd2xRC",
        "outputId": "33941a92-47ef-4748-d533-b2681ef8de43"
      },
      "execution_count": 7,
      "outputs": [
        {
          "output_type": "execute_result",
          "data": {
            "text/plain": [
              "<matplotlib.axes._subplots.AxesSubplot at 0x7f506ffe03a0>"
            ]
          },
          "metadata": {},
          "execution_count": 7
        },
        {
          "output_type": "display_data",
          "data": {
            "text/plain": [
              "<Figure size 720x720 with 2 Axes>"
            ],
            "image/png": "[encoded data removed]"
          },
          "metadata": {
            "needs_background": "light"
          }
        }
      ]
    },
    {
      "cell_type": "markdown",
      "source": [
        "## 2. Standardization Scaling"
      ],
      "metadata": {
        "id": "Wbm8oES4yk5V"
      }
    },
    {
      "cell_type": "code",
      "source": [
        "test = pd.read_csv('/content/drive/MyDrive/Colab Notebooks/4J/test.csv')\n",
        "test"
      ],
      "metadata": {
        "colab": {
          "base_uri": "https://localhost:8080/",
          "height": 423
        },
        "id": "8XIIMl025J_l",
        "outputId": "1ae9d8ee-5895-4f34-a84b-6247413dc6d3"
      },
      "execution_count": 9,
      "outputs": [
        {
          "output_type": "execute_result",
          "data": {
            "text/plain": [
              "               ID  danceability  energy  key  loudness  speechiness  \\\n",
              "0      TEST_00000        0.8861  0.6821    2    0.7241       0.3103   \n",
              "1      TEST_00001        0.8495  0.3883    1    0.4495       0.4661   \n",
              "2      TEST_00002        0.2479  0.7549    3    0.7683       0.3131   \n",
              "3      TEST_00003        0.6344  0.9804    1    0.6599       0.0931   \n",
              "4      TEST_00004        0.6237  0.6926    6    0.6716       0.0269   \n",
              "...           ...           ...     ...  ...       ...          ...   \n",
              "16917  TEST_16917        0.5461  0.8686    1    0.6351       0.0656   \n",
              "16918  TEST_16918        0.8443  0.4194    4    0.5065       0.4315   \n",
              "16919  TEST_16919        0.3373  0.9202   10    0.7272       0.4502   \n",
              "16920  TEST_16920        0.4017  0.9741    9    0.6272       0.0768   \n",
              "16921  TEST_16921        0.7676  0.4037    1    0.7554       0.3214   \n",
              "\n",
              "       acousticness  instrumentalness  liveness  valence   tempo  duration  \n",
              "0            0.1451            0.0000    0.5087   0.8863  0.9648       279  \n",
              "1            0.6234            0.0004    0.1347   0.4062  0.9051       151  \n",
              "2            0.5718            0.0000    0.1250   0.6357  0.3234       196  \n",
              "3            0.0020            0.6016    0.8799   0.8790  0.2946       207  \n",
              "4            0.0283            0.0001    0.1580   0.9288  0.3642       196  \n",
              "...             ...               ...       ...      ...     ...       ...  \n",
              "16917        0.0010            0.8888    0.0047   0.8250  0.2672       161  \n",
              "16918        0.1637            0.0241    0.0749   0.9482  0.9186       289  \n",
              "16919        0.0791            0.0001    0.1881   0.0992  0.5953       212  \n",
              "16920        0.0001            0.8718    0.6649   0.4463  0.4841       617  \n",
              "16921        0.0838            0.0059    0.2745   0.1196  0.5966       116  \n",
              "\n",
              "[16922 rows x 12 columns]"
            ],
            "text/html": [
              "\n",
              "  <div id=\"df-468ce03a-ac40-4a9d-ab7e-143207eaa00b\">\n",
              "    <div class=\"colab-df-container\">\n",
              "      <div>\n",
              "<style scoped>\n",
              "    .dataframe tbody tr th:only-of-type {\n",
              "        vertical-align: middle;\n",
              "    }\n",
              "\n",
              "    .dataframe tbody tr th {\n",
              "        vertical-align: top;\n",
              "    }\n",
              "\n",
              "    .dataframe thead th {\n",
              "        text-align: right;\n",
              "    }\n",
              "</style>\n",
              "<table border=\"1\" class=\"dataframe\">\n",
              "  <thead>\n",
              "    <tr style=\"text-align: right;\">\n",
              "      <th></th>\n",
              "      <th>ID</th>\n",
              "      <th>danceability</th>\n",
              "      <th>energy</th>\n",
              "      <th>key</th>\n",
              "      <th>loudness</th>\n",
              "      <th>speechiness</th>\n",
              "      <th>acousticness</th>\n",
              "      <th>instrumentalness</th>\n",
              "      <th>liveness</th>\n",
              "      <th>valence</th>\n",
              "      <th>tempo</th>\n",
              "      <th>duration</th>\n",
              "    </tr>\n",
              "  </thead>\n",
              "  <tbody>\n",
              "    <tr>\n",
              "      <th>0</th>\n",
              "      <td>TEST_00000</td>\n",
              "      <td>0.8861</td>\n",
              "      <td>0.6821</td>\n",
              "      <td>2</td>\n",
              "      <td>0.7241</td>\n",
              "      <td>0.3103</td>\n",
              "      <td>0.1451</td>\n",
              "      <td>0.0000</td>\n",
              "      <td>0.5087</td>\n",
              "      <td>0.8863</td>\n",
              "      <td>0.9648</td>\n",
              "      <td>279</td>\n",
              "    </tr>\n",
              "    <tr>\n",
              "      <th>1</th>\n",
              "      <td>TEST_00001</td>\n",
              "      <td>0.8495</td>\n",
              "      <td>0.3883</td>\n",
              "      <td>1</td>\n",
              "      <td>0.4495</td>\n",
              "      <td>0.4661</td>\n",
              "      <td>0.6234</td>\n",
              "      <td>0.0004</td>\n",
              "      <td>0.1347</td>\n",
              "      <td>0.4062</td>\n",
              "      <td>0.9051</td>\n",
              "      <td>151</td>\n",
              "    </tr>\n",
              "    <tr>\n",
              "      <th>2</th>\n",
              "      <td>TEST_00002</td>\n",
              "      <td>0.2479</td>\n",
              "      <td>0.7549</td>\n",
              "      <td>3</td>\n",
              "      <td>0.7683</td>\n",
              "      <td>0.3131</td>\n",
              "      <td>0.5718</td>\n",
              "      <td>0.0000</td>\n",
              "      <td>0.1250</td>\n",
              "      <td>0.6357</td>\n",
              "      <td>0.3234</td>\n",
              "      <td>196</td>\n",
              "    </tr>\n",
              "    <tr>\n",
              "      <th>3</th>\n",
              "      <td>TEST_00003</td>\n",
              "      <td>0.6344</td>\n",
              "      <td>0.9804</td>\n",
              "      <td>1</td>\n",
              "      <td>0.6599</td>\n",
              "      <td>0.0931</td>\n",
              "      <td>0.0020</td>\n",
              "      <td>0.6016</td>\n",
              "      <td>0.8799</td>\n",
              "      <td>0.8790</td>\n",
              "      <td>0.2946</td>\n",
              "      <td>207</td>\n",
              "    </tr>\n",
              "    <tr>\n",
              "      <th>4</th>\n",
              "      <td>TEST_00004</td>\n",
              "      <td>0.6237</td>\n",
              "      <td>0.6926</td>\n",
              "      <td>6</td>\n",
              "      <td>0.6716</td>\n",
              "      <td>0.0269</td>\n",
              "      <td>0.0283</td>\n",
              "      <td>0.0001</td>\n",
              "      <td>0.1580</td>\n",
              "      <td>0.9288</td>\n",
              "      <td>0.3642</td>\n",
              "      <td>196</td>\n",
              "    </tr>\n",
              "    <tr>\n",
              "      <th>...</th>\n",
              "      <td>...</td>\n",
              "      <td>...</td>\n",
              "      <td>...</td>\n",
              "      <td>...</td>\n",
              "      <td>...</td>\n",
              "      <td>...</td>\n",
              "      <td>...</td>\n",
              "      <td>...</td>\n",
              "      <td>...</td>\n",
              "      <td>...</td>\n",
              "      <td>...</td>\n",
              "      <td>...</td>\n",
              "    </tr>\n",
              "    <tr>\n",
              "      <th>16917</th>\n",
              "      <td>TEST_16917</td>\n",
              "      <td>0.5461</td>\n",
              "      <td>0.8686</td>\n",
              "      <td>1</td>\n",
              "      <td>0.6351</td>\n",
              "      <td>0.0656</td>\n",
              "      <td>0.0010</td>\n",
              "      <td>0.8888</td>\n",
              "      <td>0.0047</td>\n",
              "      <td>0.8250</td>\n",
              "      <td>0.2672</td>\n",
              "      <td>161</td>\n",
              "    </tr>\n",
              "    <tr>\n",
              "      <th>16918</th>\n",
              "      <td>TEST_16918</td>\n",
              "      <td>0.8443</td>\n",
              "      <td>0.4194</td>\n",
              "      <td>4</td>\n",
              "      <td>0.5065</td>\n",
              "      <td>0.4315</td>\n",
              "      <td>0.1637</td>\n",
              "      <td>0.0241</td>\n",
              "      <td>0.0749</td>\n",
              "      <td>0.9482</td>\n",
              "      <td>0.9186</td>\n",
              "      <td>289</td>\n",
              "    </tr>\n",
              "    <tr>\n",
              "      <th>16919</th>\n",
              "      <td>TEST_16919</td>\n",
              "      <td>0.3373</td>\n",
              "      <td>0.9202</td>\n",
              "      <td>10</td>\n",
              "      <td>0.7272</td>\n",
              "      <td>0.4502</td>\n",
              "      <td>0.0791</td>\n",
              "      <td>0.0001</td>\n",
              "      <td>0.1881</td>\n",
              "      <td>0.0992</td>\n",
              "      <td>0.5953</td>\n",
              "      <td>212</td>\n",
              "    </tr>\n",
              "    <tr>\n",
              "      <th>16920</th>\n",
              "      <td>TEST_16920</td>\n",
              "      <td>0.4017</td>\n",
              "      <td>0.9741</td>\n",
              "      <td>9</td>\n",
              "      <td>0.6272</td>\n",
              "      <td>0.0768</td>\n",
              "      <td>0.0001</td>\n",
              "      <td>0.8718</td>\n",
              "      <td>0.6649</td>\n",
              "      <td>0.4463</td>\n",
              "      <td>0.4841</td>\n",
              "      <td>617</td>\n",
              "    </tr>\n",
              "    <tr>\n",
              "      <th>16921</th>\n",
              "      <td>TEST_16921</td>\n",
              "      <td>0.7676</td>\n",
              "      <td>0.4037</td>\n",
              "      <td>1</td>\n",
              "      <td>0.7554</td>\n",
              "      <td>0.3214</td>\n",
              "      <td>0.0838</td>\n",
              "      <td>0.0059</td>\n",
              "      <td>0.2745</td>\n",
              "      <td>0.1196</td>\n",
              "      <td>0.5966</td>\n",
              "      <td>116</td>\n",
              "    </tr>\n",
              "  </tbody>\n",
              "</table>\n",
              "<p>16922 rows × 12 columns</p>\n",
              "</div>\n",
              "      <button class=\"colab-df-convert\" onclick=\"convertToInteractive('df-468ce03a-ac40-4a9d-ab7e-143207eaa00b')\"\n",
              "              title=\"Convert this dataframe to an interactive table.\"\n",
              "              style=\"display:none;\">\n",
              "        \n",
              "  <svg xmlns=\"http://www.w3.org/2000/svg\" height=\"24px\"viewBox=\"0 0 24 24\"\n",
              "       width=\"24px\">\n",
              "    <path d=\"M0 0h24v24H0V0z\" fill=\"none\"/>\n",
              "    <path d=\"M18.56 5.44l.94 2.06.94-2.06 2.06-.94-2.06-.94-.94-2.06-.94 2.06-2.06.94zm-11 1L8.5 8.5l.94-2.06 2.06-.94-2.06-.94L8.5 2.5l-.94 2.06-2.06.94zm10 10l.94 2.06.94-2.06 2.06-.94-2.06-.94-.94-2.06-.94 2.06-2.06.94z\"/><path d=\"M17.41 7.96l-1.37-1.37c-.4-.4-.92-.59-1.43-.59-.52 0-1.04.2-1.43.59L10.3 9.45l-7.72 7.72c-.78.78-.78 2.05 0 2.83L4 21.41c.39.39.9.59 1.41.59.51 0 1.02-.2 1.41-.59l7.78-7.78 2.81-2.81c.8-.78.8-2.07 0-2.86zM5.41 20L4 18.59l7.72-7.72 1.47 1.35L5.41 20z\"/>\n",
              "  </svg>\n",
              "      </button>\n",
              "      \n",
              "  <style>\n",
              "    .colab-df-container {\n",
              "      display:flex;\n",
              "      flex-wrap:wrap;\n",
              "      gap: 12px;\n",
              "    }\n",
              "\n",
              "    .colab-df-convert {\n",
              "      background-color: #E8F0FE;\n",
              "      border: none;\n",
              "      border-radius: 50%;\n",
              "      cursor: pointer;\n",
              "      display: none;\n",
              "      fill: #1967D2;\n",
              "      height: 32px;\n",
              "      padding: 0 0 0 0;\n",
              "      width: 32px;\n",
              "    }\n",
              "\n",
              "    .colab-df-convert:hover {\n",
              "      background-color: #E2EBFA;\n",
              "      box-shadow: 0px 1px 2px rgba(60, 64, 67, 0.3), 0px 1px 3px 1px rgba(60, 64, 67, 0.15);\n",
              "      fill: #174EA6;\n",
              "    }\n",
              "\n",
              "    [theme=dark] .colab-df-convert {\n",
              "      background-color: #3B4455;\n",
              "      fill: #D2E3FC;\n",
              "    }\n",
              "\n",
              "    [theme=dark] .colab-df-convert:hover {\n",
              "      background-color: #434B5C;\n",
              "      box-shadow: 0px 1px 3px 1px rgba(0, 0, 0, 0.15);\n",
              "      filter: drop-shadow(0px 1px 2px rgba(0, 0, 0, 0.3));\n",
              "      fill: #FFFFFF;\n",
              "    }\n",
              "  </style>\n",
              "\n",
              "      <script>\n",
              "        const buttonEl =\n",
              "          document.querySelector('#df-468ce03a-ac40-4a9d-ab7e-143207eaa00b button.colab-df-convert');\n",
              "        buttonEl.style.display =\n",
              "          google.colab.kernel.accessAllowed ? 'block' : 'none';\n",
              "\n",
              "        async function convertToInteractive(key) {\n",
              "          const element = document.querySelector('#df-468ce03a-ac40-4a9d-ab7e-143207eaa00b');\n",
              "          const dataTable =\n",
              "            await google.colab.kernel.invokeFunction('convertToInteractive',\n",
              "                                                     [key], {});\n",
              "          if (!dataTable) return;\n",
              "\n",
              "          const docLinkHtml = 'Like what you see? Visit the ' +\n",
              "            '<a target=\"_blank\" href=https://colab.research.google.com/notebooks/data_table.ipynb>data table notebook</a>'\n",
              "            + ' to learn more about interactive tables.';\n",
              "          element.innerHTML = '';\n",
              "          dataTable['output_type'] = 'display_data';\n",
              "          await google.colab.output.renderOutput(dataTable, element);\n",
              "          const docLink = document.createElement('div');\n",
              "          docLink.innerHTML = docLinkHtml;\n",
              "          element.appendChild(docLink);\n",
              "        }\n",
              "      </script>\n",
              "    </div>\n",
              "  </div>\n",
              "  "
            ]
          },
          "metadata": {},
          "execution_count": 9
        }
      ]
    },
    {
      "cell_type": "code",
      "source": [
        "# ID, genre = 문자열 데이터\n",
        "X = train.drop([\"ID\", \"genre\"], axis = 1)\n",
        "y = train[['genre']]\n",
        "test = test.drop([\"ID\"], axis = 1)"
      ],
      "metadata": {
        "id": "MJnEXXvO49bM"
      },
      "execution_count": 10,
      "outputs": []
    },
    {
      "cell_type": "code",
      "source": [
        "# Min-Max와 방법은 동일, 결과는 다름\n",
        "from sklearn.preprocessing import StandardScaler\n",
        "scaler = StandardScaler()\n",
        "scaler.fit(X)\n",
        "X_scaled = scaler.transform(X)"
      ],
      "metadata": {
        "id": "rrPQhH42ykOC"
      },
      "execution_count": 20,
      "outputs": []
    },
    {
      "cell_type": "code",
      "source": [
        "# 평균과 표준편차 포함하는 결과\n",
        "pd.DataFrame(X_scaled).hist(figsize=(20,10))\n",
        "pd.DataFrame(X_scaled).describe()"
      ],
      "metadata": {
        "colab": {
          "base_uri": "https://localhost:8080/",
          "height": 1000
        },
        "id": "2nB4McBd1V_5",
        "outputId": "49bea748-5571-4cf0-8d2d-bc74df2adacd"
      },
      "execution_count": 21,
      "outputs": [
        {
          "output_type": "execute_result",
          "data": {
            "text/plain": [
              "                 0             1             2             3             4   \\\n",
              "count  2.538300e+04  2.538300e+04  2.538300e+04  2.538300e+04  2.538300e+04   \n",
              "mean   3.079214e-17  2.281418e-17 -5.542586e-17  1.896166e-16 -5.640561e-17   \n",
              "std    1.000020e+00  1.000020e+00  1.000020e+00  1.000020e+00  1.000020e+00   \n",
              "min   -2.246766e+00 -2.334556e+00 -1.466757e+00 -2.497073e+00 -9.783792e-01   \n",
              "25%   -8.418137e-01 -8.438870e-01 -1.193528e+00 -7.197277e-01 -7.547554e-01   \n",
              "50%    3.664279e-02  2.152150e-01  1.726153e-01  6.861471e-02 -5.137768e-01   \n",
              "75%    8.886920e-01  9.220102e-01  9.923012e-01  7.611549e-01  6.453789e-01   \n",
              "max    1.879380e+00  1.301222e+00  1.538759e+00  2.266822e+00  2.633226e+00   \n",
              "\n",
              "                 5             6             7             8             9   \\\n",
              "count  2.538300e+04  2.538300e+04  2.538300e+04  2.538300e+04  2.538300e+04   \n",
              "mean  -4.366886e-17 -1.931507e-17  5.094700e-17 -2.233830e-16  4.814772e-17   \n",
              "std    1.000020e+00  1.000020e+00  1.000020e+00  1.000020e+00  1.000020e+00   \n",
              "min   -6.567568e-01 -7.753762e-01 -1.274293e+00 -1.411878e+00 -2.234391e+00   \n",
              "25%   -6.431613e-01 -7.753762e-01 -7.319175e-01 -8.946539e-01 -8.158840e-01   \n",
              "50%   -5.252116e-01 -7.591147e-01 -4.860618e-01 -1.474741e-01 -9.030926e-02   \n",
              "75%    2.159241e-01  1.261064e+00  6.953026e-01  8.275640e-01  7.014520e-01   \n",
              "max    3.017321e+00  1.726393e+00  2.653116e+00  2.082882e+00  2.235222e+00   \n",
              "\n",
              "                 10  \n",
              "count  2.538300e+04  \n",
              "mean   6.214415e-17  \n",
              "std    1.000020e+00  \n",
              "min   -2.190849e+00  \n",
              "25%   -6.959686e-01  \n",
              "50%   -2.591531e-01  \n",
              "75%    4.882868e-01  \n",
              "max    6.244545e+00  "
            ],
            "text/html": [
              "\n",
              "  <div id=\"df-72801b85-44c3-48ca-a4d5-6d51dd98e1c4\">\n",
              "    <div class=\"colab-df-container\">\n",
              "      <div>\n",
              "<style scoped>\n",
              "    .dataframe tbody tr th:only-of-type {\n",
              "        vertical-align: middle;\n",
              "    }\n",
              "\n",
              "    .dataframe tbody tr th {\n",
              "        vertical-align: top;\n",
              "    }\n",
              "\n",
              "    .dataframe thead th {\n",
              "        text-align: right;\n",
              "    }\n",
              "</style>\n",
              "<table border=\"1\" class=\"dataframe\">\n",
              "  <thead>\n",
              "    <tr style=\"text-align: right;\">\n",
              "      <th></th>\n",
              "      <th>0</th>\n",
              "      <th>1</th>\n",
              "      <th>2</th>\n",
              "      <th>3</th>\n",
              "      <th>4</th>\n",
              "      <th>5</th>\n",
              "      <th>6</th>\n",
              "      <th>7</th>\n",
              "      <th>8</th>\n",
              "      <th>9</th>\n",
              "      <th>10</th>\n",
              "    </tr>\n",
              "  </thead>\n",
              "  <tbody>\n",
              "    <tr>\n",
              "      <th>count</th>\n",
              "      <td>2.538300e+04</td>\n",
              "      <td>2.538300e+04</td>\n",
              "      <td>2.538300e+04</td>\n",
              "      <td>2.538300e+04</td>\n",
              "      <td>2.538300e+04</td>\n",
              "      <td>2.538300e+04</td>\n",
              "      <td>2.538300e+04</td>\n",
              "      <td>2.538300e+04</td>\n",
              "      <td>2.538300e+04</td>\n",
              "      <td>2.538300e+04</td>\n",
              "      <td>2.538300e+04</td>\n",
              "    </tr>\n",
              "    <tr>\n",
              "      <th>mean</th>\n",
              "      <td>3.079214e-17</td>\n",
              "      <td>2.281418e-17</td>\n",
              "      <td>-5.542586e-17</td>\n",
              "      <td>1.896166e-16</td>\n",
              "      <td>-5.640561e-17</td>\n",
              "      <td>-4.366886e-17</td>\n",
              "      <td>-1.931507e-17</td>\n",
              "      <td>5.094700e-17</td>\n",
              "      <td>-2.233830e-16</td>\n",
              "      <td>4.814772e-17</td>\n",
              "      <td>6.214415e-17</td>\n",
              "    </tr>\n",
              "    <tr>\n",
              "      <th>std</th>\n",
              "      <td>1.000020e+00</td>\n",
              "      <td>1.000020e+00</td>\n",
              "      <td>1.000020e+00</td>\n",
              "      <td>1.000020e+00</td>\n",
              "      <td>1.000020e+00</td>\n",
              "      <td>1.000020e+00</td>\n",
              "      <td>1.000020e+00</td>\n",
              "      <td>1.000020e+00</td>\n",
              "      <td>1.000020e+00</td>\n",
              "      <td>1.000020e+00</td>\n",
              "      <td>1.000020e+00</td>\n",
              "    </tr>\n",
              "    <tr>\n",
              "      <th>min</th>\n",
              "      <td>-2.246766e+00</td>\n",
              "      <td>-2.334556e+00</td>\n",
              "      <td>-1.466757e+00</td>\n",
              "      <td>-2.497073e+00</td>\n",
              "      <td>-9.783792e-01</td>\n",
              "      <td>-6.567568e-01</td>\n",
              "      <td>-7.753762e-01</td>\n",
              "      <td>-1.274293e+00</td>\n",
              "      <td>-1.411878e+00</td>\n",
              "      <td>-2.234391e+00</td>\n",
              "      <td>-2.190849e+00</td>\n",
              "    </tr>\n",
              "    <tr>\n",
              "      <th>25%</th>\n",
              "      <td>-8.418137e-01</td>\n",
              "      <td>-8.438870e-01</td>\n",
              "      <td>-1.193528e+00</td>\n",
              "      <td>-7.197277e-01</td>\n",
              "      <td>-7.547554e-01</td>\n",
              "      <td>-6.431613e-01</td>\n",
              "      <td>-7.753762e-01</td>\n",
              "      <td>-7.319175e-01</td>\n",
              "      <td>-8.946539e-01</td>\n",
              "      <td>-8.158840e-01</td>\n",
              "      <td>-6.959686e-01</td>\n",
              "    </tr>\n",
              "    <tr>\n",
              "      <th>50%</th>\n",
              "      <td>3.664279e-02</td>\n",
              "      <td>2.152150e-01</td>\n",
              "      <td>1.726153e-01</td>\n",
              "      <td>6.861471e-02</td>\n",
              "      <td>-5.137768e-01</td>\n",
              "      <td>-5.252116e-01</td>\n",
              "      <td>-7.591147e-01</td>\n",
              "      <td>-4.860618e-01</td>\n",
              "      <td>-1.474741e-01</td>\n",
              "      <td>-9.030926e-02</td>\n",
              "      <td>-2.591531e-01</td>\n",
              "    </tr>\n",
              "    <tr>\n",
              "      <th>75%</th>\n",
              "      <td>8.886920e-01</td>\n",
              "      <td>9.220102e-01</td>\n",
              "      <td>9.923012e-01</td>\n",
              "      <td>7.611549e-01</td>\n",
              "      <td>6.453789e-01</td>\n",
              "      <td>2.159241e-01</td>\n",
              "      <td>1.261064e+00</td>\n",
              "      <td>6.953026e-01</td>\n",
              "      <td>8.275640e-01</td>\n",
              "      <td>7.014520e-01</td>\n",
              "      <td>4.882868e-01</td>\n",
              "    </tr>\n",
              "    <tr>\n",
              "      <th>max</th>\n",
              "      <td>1.879380e+00</td>\n",
              "      <td>1.301222e+00</td>\n",
              "      <td>1.538759e+00</td>\n",
              "      <td>2.266822e+00</td>\n",
              "      <td>2.633226e+00</td>\n",
              "      <td>3.017321e+00</td>\n",
              "      <td>1.726393e+00</td>\n",
              "      <td>2.653116e+00</td>\n",
              "      <td>2.082882e+00</td>\n",
              "      <td>2.235222e+00</td>\n",
              "      <td>6.244545e+00</td>\n",
              "    </tr>\n",
              "  </tbody>\n",
              "</table>\n",
              "</div>\n",
              "      <button class=\"colab-df-convert\" onclick=\"convertToInteractive('df-72801b85-44c3-48ca-a4d5-6d51dd98e1c4')\"\n",
              "              title=\"Convert this dataframe to an interactive table.\"\n",
              "              style=\"display:none;\">\n",
              "        \n",
              "  <svg xmlns=\"http://www.w3.org/2000/svg\" height=\"24px\"viewBox=\"0 0 24 24\"\n",
              "       width=\"24px\">\n",
              "    <path d=\"M0 0h24v24H0V0z\" fill=\"none\"/>\n",
              "    <path d=\"M18.56 5.44l.94 2.06.94-2.06 2.06-.94-2.06-.94-.94-2.06-.94 2.06-2.06.94zm-11 1L8.5 8.5l.94-2.06 2.06-.94-2.06-.94L8.5 2.5l-.94 2.06-2.06.94zm10 10l.94 2.06.94-2.06 2.06-.94-2.06-.94-.94-2.06-.94 2.06-2.06.94z\"/><path d=\"M17.41 7.96l-1.37-1.37c-.4-.4-.92-.59-1.43-.59-.52 0-1.04.2-1.43.59L10.3 9.45l-7.72 7.72c-.78.78-.78 2.05 0 2.83L4 21.41c.39.39.9.59 1.41.59.51 0 1.02-.2 1.41-.59l7.78-7.78 2.81-2.81c.8-.78.8-2.07 0-2.86zM5.41 20L4 18.59l7.72-7.72 1.47 1.35L5.41 20z\"/>\n",
              "  </svg>\n",
              "      </button>\n",
              "      \n",
              "  <style>\n",
              "    .colab-df-container {\n",
              "      display:flex;\n",
              "      flex-wrap:wrap;\n",
              "      gap: 12px;\n",
              "    }\n",
              "\n",
              "    .colab-df-convert {\n",
              "      background-color: #E8F0FE;\n",
              "      border: none;\n",
              "      border-radius: 50%;\n",
              "      cursor: pointer;\n",
              "      display: none;\n",
              "      fill: #1967D2;\n",
              "      height: 32px;\n",
              "      padding: 0 0 0 0;\n",
              "      width: 32px;\n",
              "    }\n",
              "\n",
              "    .colab-df-convert:hover {\n",
              "      background-color: #E2EBFA;\n",
              "      box-shadow: 0px 1px 2px rgba(60, 64, 67, 0.3), 0px 1px 3px 1px rgba(60, 64, 67, 0.15);\n",
              "      fill: #174EA6;\n",
              "    }\n",
              "\n",
              "    [theme=dark] .colab-df-convert {\n",
              "      background-color: #3B4455;\n",
              "      fill: #D2E3FC;\n",
              "    }\n",
              "\n",
              "    [theme=dark] .colab-df-convert:hover {\n",
              "      background-color: #434B5C;\n",
              "      box-shadow: 0px 1px 3px 1px rgba(0, 0, 0, 0.15);\n",
              "      filter: drop-shadow(0px 1px 2px rgba(0, 0, 0, 0.3));\n",
              "      fill: #FFFFFF;\n",
              "    }\n",
              "  </style>\n",
              "\n",
              "      <script>\n",
              "        const buttonEl =\n",
              "          document.querySelector('#df-72801b85-44c3-48ca-a4d5-6d51dd98e1c4 button.colab-df-convert');\n",
              "        buttonEl.style.display =\n",
              "          google.colab.kernel.accessAllowed ? 'block' : 'none';\n",
              "\n",
              "        async function convertToInteractive(key) {\n",
              "          const element = document.querySelector('#df-72801b85-44c3-48ca-a4d5-6d51dd98e1c4');\n",
              "          const dataTable =\n",
              "            await google.colab.kernel.invokeFunction('convertToInteractive',\n",
              "                                                     [key], {});\n",
              "          if (!dataTable) return;\n",
              "\n",
              "          const docLinkHtml = 'Like what you see? Visit the ' +\n",
              "            '<a target=\"_blank\" href=https://colab.research.google.com/notebooks/data_table.ipynb>data table notebook</a>'\n",
              "            + ' to learn more about interactive tables.';\n",
              "          element.innerHTML = '';\n",
              "          dataTable['output_type'] = 'display_data';\n",
              "          await google.colab.output.renderOutput(dataTable, element);\n",
              "          const docLink = document.createElement('div');\n",
              "          docLink.innerHTML = docLinkHtml;\n",
              "          element.appendChild(docLink);\n",
              "        }\n",
              "      </script>\n",
              "    </div>\n",
              "  </div>\n",
              "  "
            ]
          },
          "metadata": {},
          "execution_count": 21
        },
        {
          "output_type": "display_data",
          "data": {
            "text/plain": [
              "<Figure size 1440x720 with 12 Axes>"
            ],
            "image/png": "[encoded data removed]"
          },
          "metadata": {
            "needs_background": "light"
          }
        }
      ]
    },
    {
      "cell_type": "code",
      "source": [
        "# 자료 통합 및 저장장\n",
        "X_scaled = pd.DataFrame(X_scaled)\n",
        "# Scaling 후 : 칼럼명 원래대로 추가\n",
        "X_scaled.columns=['danceability',\t'energy',\t'key',\t'loudness',\t'speechiness',\t'acousticness',\t'instrumentalness',\t'liveness',\t'valence',\t'tempo',\t'duration']\n",
        "train_new = pd.concat([X_scaled, y], axis=1)\n",
        "train_new.head()"
      ],
      "metadata": {
        "colab": {
          "base_uri": "https://localhost:8080/",
          "height": 250
        },
        "id": "ZSDheful1gx2",
        "outputId": "33e527b6-f1d6-40e4-c936-b3f13ccc3e52"
      },
      "execution_count": 23,
      "outputs": [
        {
          "output_type": "execute_result",
          "data": {
            "text/plain": [
              "   danceability    energy       key  loudness  speechiness  acousticness  \\\n",
              "0     -0.868221  1.021630  1.265530  1.573329     0.390480     -0.627361   \n",
              "1      0.370861 -0.169450  1.265530 -1.150123    -0.484129     -0.656757   \n",
              "2     -0.603322 -1.932075  0.719073 -1.325045    -0.893051      2.187264   \n",
              "3     -0.951569  1.192876 -0.920299  1.912688     2.484987     -0.520435   \n",
              "4     -1.943495  1.101981 -0.100613  1.173915    -0.477259      0.292353   \n",
              "\n",
              "   instrumentalness  liveness   valence     tempo  duration       genre  \n",
              "0         -0.774876  1.748633  1.349681  0.160029 -0.763918        trap  \n",
              "1          1.010137 -0.647086  0.042641 -0.897154  2.517052      techno  \n",
              "2         -0.775376  0.730649  0.087723 -1.220882 -0.996886  Trap Metal  \n",
              "3         -0.021093 -0.277124 -1.210231  0.166782 -0.074720        trap  \n",
              "4         -0.771624 -0.577570 -1.017669 -0.837271 -0.239739   Dark Trap  "
            ],
            "text/html": [
              "\n",
              "  <div id=\"df-dacd7d64-a301-4f63-9135-e701b7efeb80\">\n",
              "    <div class=\"colab-df-container\">\n",
              "      <div>\n",
              "<style scoped>\n",
              "    .dataframe tbody tr th:only-of-type {\n",
              "        vertical-align: middle;\n",
              "    }\n",
              "\n",
              "    .dataframe tbody tr th {\n",
              "        vertical-align: top;\n",
              "    }\n",
              "\n",
              "    .dataframe thead th {\n",
              "        text-align: right;\n",
              "    }\n",
              "</style>\n",
              "<table border=\"1\" class=\"dataframe\">\n",
              "  <thead>\n",
              "    <tr style=\"text-align: right;\">\n",
              "      <th></th>\n",
              "      <th>danceability</th>\n",
              "      <th>energy</th>\n",
              "      <th>key</th>\n",
              "      <th>loudness</th>\n",
              "      <th>speechiness</th>\n",
              "      <th>acousticness</th>\n",
              "      <th>instrumentalness</th>\n",
              "      <th>liveness</th>\n",
              "      <th>valence</th>\n",
              "      <th>tempo</th>\n",
              "      <th>duration</th>\n",
              "      <th>genre</th>\n",
              "    </tr>\n",
              "  </thead>\n",
              "  <tbody>\n",
              "    <tr>\n",
              "      <th>0</th>\n",
              "      <td>-0.868221</td>\n",
              "      <td>1.021630</td>\n",
              "      <td>1.265530</td>\n",
              "      <td>1.573329</td>\n",
              "      <td>0.390480</td>\n",
              "      <td>-0.627361</td>\n",
              "      <td>-0.774876</td>\n",
              "      <td>1.748633</td>\n",
              "      <td>1.349681</td>\n",
              "      <td>0.160029</td>\n",
              "      <td>-0.763918</td>\n",
              "      <td>trap</td>\n",
              "    </tr>\n",
              "    <tr>\n",
              "      <th>1</th>\n",
              "      <td>0.370861</td>\n",
              "      <td>-0.169450</td>\n",
              "      <td>1.265530</td>\n",
              "      <td>-1.150123</td>\n",
              "      <td>-0.484129</td>\n",
              "      <td>-0.656757</td>\n",
              "      <td>1.010137</td>\n",
              "      <td>-0.647086</td>\n",
              "      <td>0.042641</td>\n",
              "      <td>-0.897154</td>\n",
              "      <td>2.517052</td>\n",
              "      <td>techno</td>\n",
              "    </tr>\n",
              "    <tr>\n",
              "      <th>2</th>\n",
              "      <td>-0.603322</td>\n",
              "      <td>-1.932075</td>\n",
              "      <td>0.719073</td>\n",
              "      <td>-1.325045</td>\n",
              "      <td>-0.893051</td>\n",
              "      <td>2.187264</td>\n",
              "      <td>-0.775376</td>\n",
              "      <td>0.730649</td>\n",
              "      <td>0.087723</td>\n",
              "      <td>-1.220882</td>\n",
              "      <td>-0.996886</td>\n",
              "      <td>Trap Metal</td>\n",
              "    </tr>\n",
              "    <tr>\n",
              "      <th>3</th>\n",
              "      <td>-0.951569</td>\n",
              "      <td>1.192876</td>\n",
              "      <td>-0.920299</td>\n",
              "      <td>1.912688</td>\n",
              "      <td>2.484987</td>\n",
              "      <td>-0.520435</td>\n",
              "      <td>-0.021093</td>\n",
              "      <td>-0.277124</td>\n",
              "      <td>-1.210231</td>\n",
              "      <td>0.166782</td>\n",
              "      <td>-0.074720</td>\n",
              "      <td>trap</td>\n",
              "    </tr>\n",
              "    <tr>\n",
              "      <th>4</th>\n",
              "      <td>-1.943495</td>\n",
              "      <td>1.101981</td>\n",
              "      <td>-0.100613</td>\n",
              "      <td>1.173915</td>\n",
              "      <td>-0.477259</td>\n",
              "      <td>0.292353</td>\n",
              "      <td>-0.771624</td>\n",
              "      <td>-0.577570</td>\n",
              "      <td>-1.017669</td>\n",
              "      <td>-0.837271</td>\n",
              "      <td>-0.239739</td>\n",
              "      <td>Dark Trap</td>\n",
              "    </tr>\n",
              "  </tbody>\n",
              "</table>\n",
              "</div>\n",
              "      <button class=\"colab-df-convert\" onclick=\"convertToInteractive('df-dacd7d64-a301-4f63-9135-e701b7efeb80')\"\n",
              "              title=\"Convert this dataframe to an interactive table.\"\n",
              "              style=\"display:none;\">\n",
              "        \n",
              "  <svg xmlns=\"http://www.w3.org/2000/svg\" height=\"24px\"viewBox=\"0 0 24 24\"\n",
              "       width=\"24px\">\n",
              "    <path d=\"M0 0h24v24H0V0z\" fill=\"none\"/>\n",
              "    <path d=\"M18.56 5.44l.94 2.06.94-2.06 2.06-.94-2.06-.94-.94-2.06-.94 2.06-2.06.94zm-11 1L8.5 8.5l.94-2.06 2.06-.94-2.06-.94L8.5 2.5l-.94 2.06-2.06.94zm10 10l.94 2.06.94-2.06 2.06-.94-2.06-.94-.94-2.06-.94 2.06-2.06.94z\"/><path d=\"M17.41 7.96l-1.37-1.37c-.4-.4-.92-.59-1.43-.59-.52 0-1.04.2-1.43.59L10.3 9.45l-7.72 7.72c-.78.78-.78 2.05 0 2.83L4 21.41c.39.39.9.59 1.41.59.51 0 1.02-.2 1.41-.59l7.78-7.78 2.81-2.81c.8-.78.8-2.07 0-2.86zM5.41 20L4 18.59l7.72-7.72 1.47 1.35L5.41 20z\"/>\n",
              "  </svg>\n",
              "      </button>\n",
              "      \n",
              "  <style>\n",
              "    .colab-df-container {\n",
              "      display:flex;\n",
              "      flex-wrap:wrap;\n",
              "      gap: 12px;\n",
              "    }\n",
              "\n",
              "    .colab-df-convert {\n",
              "      background-color: #E8F0FE;\n",
              "      border: none;\n",
              "      border-radius: 50%;\n",
              "      cursor: pointer;\n",
              "      display: none;\n",
              "      fill: #1967D2;\n",
              "      height: 32px;\n",
              "      padding: 0 0 0 0;\n",
              "      width: 32px;\n",
              "    }\n",
              "\n",
              "    .colab-df-convert:hover {\n",
              "      background-color: #E2EBFA;\n",
              "      box-shadow: 0px 1px 2px rgba(60, 64, 67, 0.3), 0px 1px 3px 1px rgba(60, 64, 67, 0.15);\n",
              "      fill: #174EA6;\n",
              "    }\n",
              "\n",
              "    [theme=dark] .colab-df-convert {\n",
              "      background-color: #3B4455;\n",
              "      fill: #D2E3FC;\n",
              "    }\n",
              "\n",
              "    [theme=dark] .colab-df-convert:hover {\n",
              "      background-color: #434B5C;\n",
              "      box-shadow: 0px 1px 3px 1px rgba(0, 0, 0, 0.15);\n",
              "      filter: drop-shadow(0px 1px 2px rgba(0, 0, 0, 0.3));\n",
              "      fill: #FFFFFF;\n",
              "    }\n",
              "  </style>\n",
              "\n",
              "      <script>\n",
              "        const buttonEl =\n",
              "          document.querySelector('#df-dacd7d64-a301-4f63-9135-e701b7efeb80 button.colab-df-convert');\n",
              "        buttonEl.style.display =\n",
              "          google.colab.kernel.accessAllowed ? 'block' : 'none';\n",
              "\n",
              "        async function convertToInteractive(key) {\n",
              "          const element = document.querySelector('#df-dacd7d64-a301-4f63-9135-e701b7efeb80');\n",
              "          const dataTable =\n",
              "            await google.colab.kernel.invokeFunction('convertToInteractive',\n",
              "                                                     [key], {});\n",
              "          if (!dataTable) return;\n",
              "\n",
              "          const docLinkHtml = 'Like what you see? Visit the ' +\n",
              "            '<a target=\"_blank\" href=https://colab.research.google.com/notebooks/data_table.ipynb>data table notebook</a>'\n",
              "            + ' to learn more about interactive tables.';\n",
              "          element.innerHTML = '';\n",
              "          dataTable['output_type'] = 'display_data';\n",
              "          await google.colab.output.renderOutput(dataTable, element);\n",
              "          const docLink = document.createElement('div');\n",
              "          docLink.innerHTML = docLinkHtml;\n",
              "          element.appendChild(docLink);\n",
              "        }\n",
              "      </script>\n",
              "    </div>\n",
              "  </div>\n",
              "  "
            ]
          },
          "metadata": {},
          "execution_count": 23
        }
      ]
    },
    {
      "cell_type": "markdown",
      "source": [
        "## 3. Random Forest"
      ],
      "metadata": {
        "id": "6BG4Czoa4uxu"
      }
    },
    {
      "cell_type": "code",
      "source": [
        "from sklearn.model_selection import train_test_split\n",
        "from sklearn.ensemble import RandomForestClassifier\n",
        "from sklearn.metrics import f1_score"
      ],
      "metadata": {
        "id": "9VKXjkCO2fNo"
      },
      "execution_count": 8,
      "outputs": []
    },
    {
      "cell_type": "code",
      "source": [
        "# 스케일링 된 데이터로 X, y 다시 나누기기\n",
        "X = train_new.drop([\"genre\"], axis = 1)\n",
        "y = train_new[['genre']]"
      ],
      "metadata": {
        "id": "Tb6pFc8b3cSG"
      },
      "execution_count": 26,
      "outputs": []
    },
    {
      "cell_type": "code",
      "source": [
        "# 검증 데이터 생성\n",
        "X_train, X_valid, y_train, y_valid = train_test_split(X, y, stratify = y, test_size = 0.2)\n",
        "print(X_train.shape, X_valid.shape, y_train.shape, y_valid.shape)"
      ],
      "metadata": {
        "colab": {
          "base_uri": "https://localhost:8080/"
        },
        "id": "6IuzyLK15WLj",
        "outputId": "2e364f14-0ed9-409d-a743-93af88a379f3"
      },
      "execution_count": 27,
      "outputs": [
        {
          "output_type": "stream",
          "name": "stdout",
          "text": [
            "(20306, 11) (5077, 11) (20306, 1) (5077, 1)\n"
          ]
        }
      ]
    },
    {
      "cell_type": "code",
      "source": [
        "# Grid Search\n",
        "from sklearn.model_selection import GridSearchCV\n",
        "param_grid={'n_estimators': [1, 2, 3, 4, 5, 6, 7, 8, 9, 10]}\n",
        "grid_search = GridSearchCV(RandomForestClassifier(), param_grid, cv=5, return_train_score=True)\n",
        "grid_search.fit(X_train, y_train)"
      ],
      "metadata": {
        "colab": {
          "base_uri": "https://localhost:8080/"
        },
        "id": "JmiCjSvh6Ewz",
        "outputId": "4a276ddf-14d7-4740-827c-9db07b3068bd"
      },
      "execution_count": 28,
      "outputs": [
        {
          "output_type": "execute_result",
          "data": {
            "text/plain": [
              "GridSearchCV(cv=5, estimator=RandomForestClassifier(),\n",
              "             param_grid={'n_estimators': [1, 2, 3, 4, 5, 6, 7, 8, 9, 10]},\n",
              "             return_train_score=True)"
            ]
          },
          "metadata": {},
          "execution_count": 28
        }
      ]
    },
    {
      "cell_type": "code",
      "source": [
        "print(\"Best Parameter: {}\".format(grid_search.best_params_))\n",
        "print(\"Best Cross-validity Score: {:.3f}\".format(grid_search.best_score_))\n",
        "print(\"Vaild set Score: {:.3f}\".format(grid_search.score(X_valid, y_valid)))"
      ],
      "metadata": {
        "colab": {
          "base_uri": "https://localhost:8080/"
        },
        "id": "83RYVC916Erk",
        "outputId": "df2e65cc-be6e-42b0-c40d-9ddc4a3abb5f"
      },
      "execution_count": 29,
      "outputs": [
        {
          "output_type": "stream",
          "name": "stdout",
          "text": [
            "Best Parameter: {'n_estimators': 10}\n",
            "Best Cross-validity Score: 0.626\n",
            "Vaild set Score: 0.630\n"
          ]
        }
      ]
    },
    {
      "cell_type": "code",
      "source": [
        "# Random Search\n",
        "from sklearn.model_selection import RandomizedSearchCV\n",
        "from scipy.stats import randint\n",
        "param_distribs = {'n_estimators': randint(low=1, high=20)}\n",
        "random_search=RandomizedSearchCV(RandomForestClassifier(), \n",
        "                                 param_distributions=param_distribs, cv=5, return_train_score=True)\n",
        "random_search.fit(X_train, y_train)"
      ],
      "metadata": {
        "colab": {
          "base_uri": "https://localhost:8080/"
        },
        "id": "09-quLF68rBn",
        "outputId": "85ca3df5-3bc9-4f27-f90f-076bfdd8f112"
      },
      "execution_count": 30,
      "outputs": [
        {
          "output_type": "execute_result",
          "data": {
            "text/plain": [
              "RandomizedSearchCV(cv=5, estimator=RandomForestClassifier(),\n",
              "                   param_distributions={'n_estimators': <scipy.stats._distn_infrastructure.rv_frozen object at 0x7f506305a220>},\n",
              "                   return_train_score=True)"
            ]
          },
          "metadata": {},
          "execution_count": 30
        }
      ]
    },
    {
      "cell_type": "code",
      "source": [
        "print(\"Best Parameter: {}\".format(random_search.best_params_))\n",
        "print(\"Best Cross-validity Score: {:.3f}\".format(random_search.best_score_))\n",
        "print(\"Valid set Score: {:.3f}\".format(random_search.score(X_valid, y_valid)))"
      ],
      "metadata": {
        "colab": {
          "base_uri": "https://localhost:8080/"
        },
        "id": "HvYTEEQc9Ami",
        "outputId": "d0dff822-8368-43fe-a8d7-c45509f49dba"
      },
      "execution_count": 31,
      "outputs": [
        {
          "output_type": "stream",
          "name": "stdout",
          "text": [
            "Best Parameter: {'n_estimators': 19}\n",
            "Best Cross-validity Score: 0.645\n",
            "Valid set Score: 0.640\n"
          ]
        }
      ]
    },
    {
      "cell_type": "code",
      "source": [
        "# 변수 중요도 시각화\n",
        "Forest = RandomForestClassifier( n_estimators=19)\n",
        "Forest.fit(X_train, y_train)\n",
        "print(\"특성 중요도:\\n{}\".format(Forest.feature_importances_))\n",
        "\n",
        "import matplotlib.pyplot as plt\n",
        "import numpy as np\n",
        "def plot_feature_importances_forest(model):\n",
        "    n_features = X.shape[1]\n",
        "    plt.barh(range(n_features), model.feature_importances_, align='center')\n",
        "    plt.yticks(np.arange(n_features), X.columns)\n",
        "    plt.xlabel(\"Importance\")\n",
        "    plt.ylabel(\"Features\")\n",
        "    plt.ylim(-1, n_features)\n",
        "plot_feature_importances_forest(Forest)"
      ],
      "metadata": {
        "colab": {
          "base_uri": "https://localhost:8080/",
          "height": 632
        },
        "id": "wLHvlS7z-Ras",
        "outputId": "b8f4ef8c-5319-457e-ed40-e021556a9e87"
      },
      "execution_count": 32,
      "outputs": [
        {
          "output_type": "stream",
          "name": "stdout",
          "text": [
            "특성 중요도:\n",
            "[0.10309618 0.08060017 0.03045161 0.08462309 0.07184892 0.06922923\n",
            " 0.0816977  0.05138838 0.0724147  0.22147726 0.13317276]\n"
          ]
        },
        {
          "output_type": "display_data",
          "data": {
            "text/plain": [
              "<Figure size 1440x720 with 1 Axes>"
            ],
            "image/png": "[encoded data removed]"
          },
          "metadata": {
            "needs_background": "light"
          }
        }
      ]
    },
    {
      "cell_type": "code",
      "source": [
        "# 모델평가\n",
        "from sklearn.metrics import confusion_matrix\n",
        "pred_train = Forest.predict(X_train)\n",
        "confusion_train = confusion_matrix(y_train, pred_train)\n",
        "print(\"훈련데이터 오차행렬:\\n\", confusion_train)\n",
        "\n",
        "pred_test = Forest.predict(X_valid)\n",
        "confusion_test = confusion_matrix(y_valid, pred_test)\n",
        "print(\"검증 데이터 오차행렬:\\n\", confusion_test)"
      ],
      "metadata": {
        "colab": {
          "base_uri": "https://localhost:8080/"
        },
        "id": "E8HinWCd-luY",
        "outputId": "8d01c045-ee0c-4c78-f0cd-a1b97b72a002"
      },
      "execution_count": 33,
      "outputs": [
        {
          "output_type": "stream",
          "name": "stdout",
          "text": [
            "훈련데이터 오차행렬:\n",
            " [[2013    0    2    0    8    5   38   88    1    0    0    0    0    1\n",
            "     1]\n",
            " [   1  787    0    7    0    3    0    0    0    1    0    0    0    0\n",
            "     0]\n",
            " [  16    0 1344    1   15   27    2   53    0    0    0    0    0    0\n",
            "     0]\n",
            " [   0    6    0  206    0    3    0    0    1    0    0    0    0    0\n",
            "     0]\n",
            " [   7    0   16    0  803   10    4   56    0    0    0    0    0    0\n",
            "     0]\n",
            " [   7    0   22    2    7  991    0   17    0    0    0    0    0    0\n",
            "     0]\n",
            " [  54    0    3    0    1    0  792  100    0    0    0    0    0    0\n",
            "     0]\n",
            " [  78    1   58    1   43   12   60 2532    0    0    0    0    0    0\n",
            "     0]\n",
            " [   0    0    0    0    0    0    0    0 1399    0    0    0    0    0\n",
            "     0]\n",
            " [   0    0    0    0    0    0    0    0    0 1403    0    0    0    0\n",
            "     1]\n",
            " [   0    0    0    0    0    0    0    0    0    0 1414    0    0    0\n",
            "     0]\n",
            " [   0    0    0    0    0    0    0    0    0    0    0 1438    9    0\n",
            "     0]\n",
            " [   0    0    0    0    0    0    0    0    0    0    0    3 1409    2\n",
            "     0]\n",
            " [   0    0    0    0    0    0    0    0    0    0    2    0    0 1468\n",
            "     0]\n",
            " [   1    1    0    0    0    0    0    0    0    0    0    0    0    0\n",
            "  1449]]\n",
            "검증 데이터 오차행렬:\n",
            " [[249   8  19   1   5  16  31 135  16   8   2   5   1  28  15]\n",
            " [ 13 132   4   6   2  20   1   8   1   4   0   0   0   7   2]\n",
            " [ 30  12 126   0   9  52   6 118   4   0   0   3   1   1   2]\n",
            " [  4  14   6   3   0  14   0   8   0   0   0   3   0   2   0]\n",
            " [ 12   2  22   0  79  20   3  79   0   1   0   2   0   0   4]\n",
            " [ 27  15  55   4  11  83   2  60   1   1   0   0   0   0   3]\n",
            " [ 59   5   4   0   2   5  56  90   1   4   0   0   0   2  10]\n",
            " [145   5  98   1  35  25  54 324   1   0   0   2   0   1   6]\n",
            " [  1   3   0   0   0   0   3   3 340   0   0   0   0   0   0]\n",
            " [  7   2   0   0   0   0   0   1   0 324   0   0   0   0  17]\n",
            " [  7   0   0   0   0   0   0   0   0   3 321   0   9  13   0]\n",
            " [  6   2   0   0   0   1   0   1   0   0   0 321  24   7   0]\n",
            " [  5   0   0   0   0   0   0   1   0   0   6  22 304  15   0]\n",
            " [ 10   6   1   0   0   0   0   0   0   0  16   4  28 299   3]\n",
            " [ 17   4   0   0   1   1   1   2   0  33   2   0   0   2 300]]\n"
          ]
        }
      ]
    },
    {
      "cell_type": "code",
      "source": [
        "val_pred = Forest.predict(X_valid)\n",
        "\n",
        "# Macro f1 score을 사용하기 위해 average 인자 값을 \"macro\" 로 설정\n",
        "print(\"현재 Macro F1 Score의 검증 점수는 {}입니다.\".format(f1_score(val_pred, y_valid, average = \"macro\")))"
      ],
      "metadata": {
        "colab": {
          "base_uri": "https://localhost:8080/"
        },
        "id": "joT55Py8_CBU",
        "outputId": "04291837-3b01-4630-df59-5e498cb07f0f"
      },
      "execution_count": 34,
      "outputs": [
        {
          "output_type": "stream",
          "name": "stdout",
          "text": [
            "현재 Macro F1 Score의 검증 점수는 0.6081705573590106입니다.\n"
          ]
        }
      ]
    },
    {
      "cell_type": "code",
      "source": [
        "# 예측\n",
        "submission = pd.read_csv(\"/content/drive/MyDrive/Colab Notebooks/4J/sample_submission.csv\")\n",
        "\n",
        "pred = Forest.predict(test)\n",
        "submission[\"genre\"] = pred\n",
        "submission"
      ],
      "metadata": {
        "colab": {
          "base_uri": "https://localhost:8080/",
          "height": 423
        },
        "id": "kJ6_nnjm_Had",
        "outputId": "7c0a1595-bad4-4399-e198-d76688a50a63"
      },
      "execution_count": 35,
      "outputs": [
        {
          "output_type": "execute_result",
          "data": {
            "text/plain": [
              "               ID      genre\n",
              "0      TEST_00000        dnb\n",
              "1      TEST_00001        dnb\n",
              "2      TEST_00002  hardstyle\n",
              "3      TEST_00003  psytrance\n",
              "4      TEST_00004  hardstyle\n",
              "...           ...        ...\n",
              "16917  TEST_16917  psytrance\n",
              "16918  TEST_16918        dnb\n",
              "16919  TEST_16919  hardstyle\n",
              "16920  TEST_16920  hardstyle\n",
              "16921  TEST_16921  psytrance\n",
              "\n",
              "[16922 rows x 2 columns]"
            ],
            "text/html": [
              "\n",
              "  <div id=\"df-fb094b45-c517-4d19-9d83-792c55be3796\">\n",
              "    <div class=\"colab-df-container\">\n",
              "      <div>\n",
              "<style scoped>\n",
              "    .dataframe tbody tr th:only-of-type {\n",
              "        vertical-align: middle;\n",
              "    }\n",
              "\n",
              "    .dataframe tbody tr th {\n",
              "        vertical-align: top;\n",
              "    }\n",
              "\n",
              "    .dataframe thead th {\n",
              "        text-align: right;\n",
              "    }\n",
              "</style>\n",
              "<table border=\"1\" class=\"dataframe\">\n",
              "  <thead>\n",
              "    <tr style=\"text-align: right;\">\n",
              "      <th></th>\n",
              "      <th>ID</th>\n",
              "      <th>genre</th>\n",
              "    </tr>\n",
              "  </thead>\n",
              "  <tbody>\n",
              "    <tr>\n",
              "      <th>0</th>\n",
              "      <td>TEST_00000</td>\n",
              "      <td>dnb</td>\n",
              "    </tr>\n",
              "    <tr>\n",
              "      <th>1</th>\n",
              "      <td>TEST_00001</td>\n",
              "      <td>dnb</td>\n",
              "    </tr>\n",
              "    <tr>\n",
              "      <th>2</th>\n",
              "      <td>TEST_00002</td>\n",
              "      <td>hardstyle</td>\n",
              "    </tr>\n",
              "    <tr>\n",
              "      <th>3</th>\n",
              "      <td>TEST_00003</td>\n",
              "      <td>psytrance</td>\n",
              "    </tr>\n",
              "    <tr>\n",
              "      <th>4</th>\n",
              "      <td>TEST_00004</td>\n",
              "      <td>hardstyle</td>\n",
              "    </tr>\n",
              "    <tr>\n",
              "      <th>...</th>\n",
              "      <td>...</td>\n",
              "      <td>...</td>\n",
              "    </tr>\n",
              "    <tr>\n",
              "      <th>16917</th>\n",
              "      <td>TEST_16917</td>\n",
              "      <td>psytrance</td>\n",
              "    </tr>\n",
              "    <tr>\n",
              "      <th>16918</th>\n",
              "      <td>TEST_16918</td>\n",
              "      <td>dnb</td>\n",
              "    </tr>\n",
              "    <tr>\n",
              "      <th>16919</th>\n",
              "      <td>TEST_16919</td>\n",
              "      <td>hardstyle</td>\n",
              "    </tr>\n",
              "    <tr>\n",
              "      <th>16920</th>\n",
              "      <td>TEST_16920</td>\n",
              "      <td>hardstyle</td>\n",
              "    </tr>\n",
              "    <tr>\n",
              "      <th>16921</th>\n",
              "      <td>TEST_16921</td>\n",
              "      <td>psytrance</td>\n",
              "    </tr>\n",
              "  </tbody>\n",
              "</table>\n",
              "<p>16922 rows × 2 columns</p>\n",
              "</div>\n",
              "      <button class=\"colab-df-convert\" onclick=\"convertToInteractive('df-fb094b45-c517-4d19-9d83-792c55be3796')\"\n",
              "              title=\"Convert this dataframe to an interactive table.\"\n",
              "              style=\"display:none;\">\n",
              "        \n",
              "  <svg xmlns=\"http://www.w3.org/2000/svg\" height=\"24px\"viewBox=\"0 0 24 24\"\n",
              "       width=\"24px\">\n",
              "    <path d=\"M0 0h24v24H0V0z\" fill=\"none\"/>\n",
              "    <path d=\"M18.56 5.44l.94 2.06.94-2.06 2.06-.94-2.06-.94-.94-2.06-.94 2.06-2.06.94zm-11 1L8.5 8.5l.94-2.06 2.06-.94-2.06-.94L8.5 2.5l-.94 2.06-2.06.94zm10 10l.94 2.06.94-2.06 2.06-.94-2.06-.94-.94-2.06-.94 2.06-2.06.94z\"/><path d=\"M17.41 7.96l-1.37-1.37c-.4-.4-.92-.59-1.43-.59-.52 0-1.04.2-1.43.59L10.3 9.45l-7.72 7.72c-.78.78-.78 2.05 0 2.83L4 21.41c.39.39.9.59 1.41.59.51 0 1.02-.2 1.41-.59l7.78-7.78 2.81-2.81c.8-.78.8-2.07 0-2.86zM5.41 20L4 18.59l7.72-7.72 1.47 1.35L5.41 20z\"/>\n",
              "  </svg>\n",
              "      </button>\n",
              "      \n",
              "  <style>\n",
              "    .colab-df-container {\n",
              "      display:flex;\n",
              "      flex-wrap:wrap;\n",
              "      gap: 12px;\n",
              "    }\n",
              "\n",
              "    .colab-df-convert {\n",
              "      background-color: #E8F0FE;\n",
              "      border: none;\n",
              "      border-radius: 50%;\n",
              "      cursor: pointer;\n",
              "      display: none;\n",
              "      fill: #1967D2;\n",
              "      height: 32px;\n",
              "      padding: 0 0 0 0;\n",
              "      width: 32px;\n",
              "    }\n",
              "\n",
              "    .colab-df-convert:hover {\n",
              "      background-color: #E2EBFA;\n",
              "      box-shadow: 0px 1px 2px rgba(60, 64, 67, 0.3), 0px 1px 3px 1px rgba(60, 64, 67, 0.15);\n",
              "      fill: #174EA6;\n",
              "    }\n",
              "\n",
              "    [theme=dark] .colab-df-convert {\n",
              "      background-color: #3B4455;\n",
              "      fill: #D2E3FC;\n",
              "    }\n",
              "\n",
              "    [theme=dark] .colab-df-convert:hover {\n",
              "      background-color: #434B5C;\n",
              "      box-shadow: 0px 1px 3px 1px rgba(0, 0, 0, 0.15);\n",
              "      filter: drop-shadow(0px 1px 2px rgba(0, 0, 0, 0.3));\n",
              "      fill: #FFFFFF;\n",
              "    }\n",
              "  </style>\n",
              "\n",
              "      <script>\n",
              "        const buttonEl =\n",
              "          document.querySelector('#df-fb094b45-c517-4d19-9d83-792c55be3796 button.colab-df-convert');\n",
              "        buttonEl.style.display =\n",
              "          google.colab.kernel.accessAllowed ? 'block' : 'none';\n",
              "\n",
              "        async function convertToInteractive(key) {\n",
              "          const element = document.querySelector('#df-fb094b45-c517-4d19-9d83-792c55be3796');\n",
              "          const dataTable =\n",
              "            await google.colab.kernel.invokeFunction('convertToInteractive',\n",
              "                                                     [key], {});\n",
              "          if (!dataTable) return;\n",
              "\n",
              "          const docLinkHtml = 'Like what you see? Visit the ' +\n",
              "            '<a target=\"_blank\" href=https://colab.research.google.com/notebooks/data_table.ipynb>data table notebook</a>'\n",
              "            + ' to learn more about interactive tables.';\n",
              "          element.innerHTML = '';\n",
              "          dataTable['output_type'] = 'display_data';\n",
              "          await google.colab.output.renderOutput(dataTable, element);\n",
              "          const docLink = document.createElement('div');\n",
              "          docLink.innerHTML = docLinkHtml;\n",
              "          element.appendChild(docLink);\n",
              "        }\n",
              "      </script>\n",
              "    </div>\n",
              "  </div>\n",
              "  "
            ]
          },
          "metadata": {},
          "execution_count": 35
        }
      ]
    },
    {
      "cell_type": "markdown",
      "source": [
        "## 4. Gradiant Boosting"
      ],
      "metadata": {
        "id": "fgmmAJff4gO2"
      }
    },
    {
      "cell_type": "code",
      "source": [
        "# 기본값은 max_depth= 3, n_estimators=100, learning_rate = 0.1\n",
        "from sklearn.ensemble import GradientBoostingClassifier\n",
        "gbrt = GradientBoostingClassifier(random_state=0)\n",
        "gbrt.fit(X_train, y_train)"
      ],
      "metadata": {
        "colab": {
          "base_uri": "https://localhost:8080/"
        },
        "id": "s2XYeHzj4igt",
        "outputId": "edfccce7-2b62-46cb-c366-acc0f09cb2ac"
      },
      "execution_count": 43,
      "outputs": [
        {
          "output_type": "execute_result",
          "data": {
            "text/plain": [
              "GradientBoostingClassifier(random_state=0)"
            ]
          },
          "metadata": {},
          "execution_count": 43
        }
      ]
    },
    {
      "cell_type": "code",
      "source": [
        "print(\"학습용 데이터 세트 정확도: {:.3f}\".format(gbrt.score(X_train, y_train)))\n",
        "print(\"검증용 데이터 세트 정확도: {:.3f}\".format(gbrt.score(X_valid, y_valid)))"
      ],
      "metadata": {
        "colab": {
          "base_uri": "https://localhost:8080/"
        },
        "id": "8bpnRbx74ooQ",
        "outputId": "be14f7d2-3364-4894-c058-0332add5cbdf"
      },
      "execution_count": 51,
      "outputs": [
        {
          "output_type": "stream",
          "name": "stdout",
          "text": [
            "학습용 데이터 세트 정확도: 0.751\n",
            "검증용 데이터 세트 정확도: 0.676\n"
          ]
        }
      ]
    },
    {
      "cell_type": "code",
      "source": [
        "# 나무 깊이 제한\n",
        "gbrt2 = GradientBoostingClassifier(random_state=0, max_depth=4)\n",
        "gbrt2.fit(X_train, y_train)"
      ],
      "metadata": {
        "colab": {
          "base_uri": "https://localhost:8080/"
        },
        "id": "DuC3QTAX5xFN",
        "outputId": "91038d95-4958-421b-9c52-45881cded265"
      },
      "execution_count": 41,
      "outputs": [
        {
          "output_type": "execute_result",
          "data": {
            "text/plain": [
              "GradientBoostingClassifier(max_depth=4, random_state=0)"
            ]
          },
          "metadata": {},
          "execution_count": 41
        }
      ]
    },
    {
      "cell_type": "code",
      "source": [
        "print(\"학습용 데이터 세트 정확도: {:.3f}\".format(gbrt2.score(X_train, y_train)))\n",
        "print(\"검증용 데이터 세트 정확도: {:.3f}\".format(gbrt2.score(X_valid, y_valid))) # 오히려 감소"
      ],
      "metadata": {
        "colab": {
          "base_uri": "https://localhost:8080/"
        },
        "id": "uydlPZvY57Y6",
        "outputId": "c3951e33-42e8-4c01-d28c-e443b7e9a3e6"
      },
      "execution_count": 42,
      "outputs": [
        {
          "output_type": "stream",
          "name": "stdout",
          "text": [
            "학습용 데이터 세트 정확도: 0.810\n",
            "검증용 데이터 세트 정확도: 0.671\n"
          ]
        }
      ]
    },
    {
      "cell_type": "code",
      "source": [
        "def plot_feature_importances_gbrt(model):\n",
        "    n_features = X.shape[1]\n",
        "    plt.barh(range(n_features), model.feature_importances_, align='center')\n",
        "    plt.yticks(np.arange(n_features), X.columns)\n",
        "    plt.xlabel(\"Importance\")\n",
        "    plt.ylabel(\"Features\")\n",
        "    plt.ylim(-1, n_features)\n",
        "plot_feature_importances_gbrt(gbrt)"
      ],
      "metadata": {
        "colab": {
          "base_uri": "https://localhost:8080/",
          "height": 577
        },
        "id": "2rpzR_9g4zrw",
        "outputId": "71c228e2-4e14-464e-abce-f1c2b404452e"
      },
      "execution_count": 38,
      "outputs": [
        {
          "output_type": "display_data",
          "data": {
            "text/plain": [
              "<Figure size 1440x720 with 1 Axes>"
            ],
            "image/png": "[encoded data removed]"
          },
          "metadata": {
            "needs_background": "light"
          }
        }
      ]
    },
    {
      "cell_type": "code",
      "source": [
        "val_pred = gbrt.predict(X_valid)\n",
        "\n",
        "# Macro f1 score을 사용하기 위해 average 인자 값을 \"macro\" 로 설정\n",
        "print(\"현재 Macro F1 Score의 검증 점수는 {}입니다.\".format(f1_score(val_pred, y_valid, average = \"macro\")))"
      ],
      "metadata": {
        "colab": {
          "base_uri": "https://localhost:8080/"
        },
        "id": "_eiX5Z606CDx",
        "outputId": "930c6b2d-4532-4773-cb6f-4985b8c8607d"
      },
      "execution_count": 45,
      "outputs": [
        {
          "output_type": "stream",
          "name": "stdout",
          "text": [
            "현재 Macro F1 Score의 검증 점수는 0.6433911374887321입니다.\n"
          ]
        }
      ]
    },
    {
      "cell_type": "code",
      "source": [
        "# 예측\n",
        "pred2 = gbrt.predict(test)\n",
        "submission[\"genre\"] = pred2\n",
        "submission"
      ],
      "metadata": {
        "colab": {
          "base_uri": "https://localhost:8080/",
          "height": 423
        },
        "id": "88PuaPas6ERB",
        "outputId": "63ea81a2-630e-4e2c-93f1-b2bb468ff84e"
      },
      "execution_count": 57,
      "outputs": [
        {
          "output_type": "execute_result",
          "data": {
            "text/plain": [
              "               ID      genre\n",
              "0      TEST_00000  psytrance\n",
              "1      TEST_00001  psytrance\n",
              "2      TEST_00002  psytrance\n",
              "3      TEST_00003  psytrance\n",
              "4      TEST_00004  psytrance\n",
              "...           ...        ...\n",
              "16917  TEST_16917  psytrance\n",
              "16918  TEST_16918     Hiphop\n",
              "16919  TEST_16919  psytrance\n",
              "16920  TEST_16920  psytrance\n",
              "16921  TEST_16921  psytrance\n",
              "\n",
              "[16922 rows x 2 columns]"
            ],
            "text/html": [
              "\n",
              "  <div id=\"df-50c07cf6-d269-4ba2-9e49-50a47a5ad459\">\n",
              "    <div class=\"colab-df-container\">\n",
              "      <div>\n",
              "<style scoped>\n",
              "    .dataframe tbody tr th:only-of-type {\n",
              "        vertical-align: middle;\n",
              "    }\n",
              "\n",
              "    .dataframe tbody tr th {\n",
              "        vertical-align: top;\n",
              "    }\n",
              "\n",
              "    .dataframe thead th {\n",
              "        text-align: right;\n",
              "    }\n",
              "</style>\n",
              "<table border=\"1\" class=\"dataframe\">\n",
              "  <thead>\n",
              "    <tr style=\"text-align: right;\">\n",
              "      <th></th>\n",
              "      <th>ID</th>\n",
              "      <th>genre</th>\n",
              "    </tr>\n",
              "  </thead>\n",
              "  <tbody>\n",
              "    <tr>\n",
              "      <th>0</th>\n",
              "      <td>TEST_00000</td>\n",
              "      <td>psytrance</td>\n",
              "    </tr>\n",
              "    <tr>\n",
              "      <th>1</th>\n",
              "      <td>TEST_00001</td>\n",
              "      <td>psytrance</td>\n",
              "    </tr>\n",
              "    <tr>\n",
              "      <th>2</th>\n",
              "      <td>TEST_00002</td>\n",
              "      <td>psytrance</td>\n",
              "    </tr>\n",
              "    <tr>\n",
              "      <th>3</th>\n",
              "      <td>TEST_00003</td>\n",
              "      <td>psytrance</td>\n",
              "    </tr>\n",
              "    <tr>\n",
              "      <th>4</th>\n",
              "      <td>TEST_00004</td>\n",
              "      <td>psytrance</td>\n",
              "    </tr>\n",
              "    <tr>\n",
              "      <th>...</th>\n",
              "      <td>...</td>\n",
              "      <td>...</td>\n",
              "    </tr>\n",
              "    <tr>\n",
              "      <th>16917</th>\n",
              "      <td>TEST_16917</td>\n",
              "      <td>psytrance</td>\n",
              "    </tr>\n",
              "    <tr>\n",
              "      <th>16918</th>\n",
              "      <td>TEST_16918</td>\n",
              "      <td>Hiphop</td>\n",
              "    </tr>\n",
              "    <tr>\n",
              "      <th>16919</th>\n",
              "      <td>TEST_16919</td>\n",
              "      <td>psytrance</td>\n",
              "    </tr>\n",
              "    <tr>\n",
              "      <th>16920</th>\n",
              "      <td>TEST_16920</td>\n",
              "      <td>psytrance</td>\n",
              "    </tr>\n",
              "    <tr>\n",
              "      <th>16921</th>\n",
              "      <td>TEST_16921</td>\n",
              "      <td>psytrance</td>\n",
              "    </tr>\n",
              "  </tbody>\n",
              "</table>\n",
              "<p>16922 rows × 2 columns</p>\n",
              "</div>\n",
              "      <button class=\"colab-df-convert\" onclick=\"convertToInteractive('df-50c07cf6-d269-4ba2-9e49-50a47a5ad459')\"\n",
              "              title=\"Convert this dataframe to an interactive table.\"\n",
              "              style=\"display:none;\">\n",
              "        \n",
              "  <svg xmlns=\"http://www.w3.org/2000/svg\" height=\"24px\"viewBox=\"0 0 24 24\"\n",
              "       width=\"24px\">\n",
              "    <path d=\"M0 0h24v24H0V0z\" fill=\"none\"/>\n",
              "    <path d=\"M18.56 5.44l.94 2.06.94-2.06 2.06-.94-2.06-.94-.94-2.06-.94 2.06-2.06.94zm-11 1L8.5 8.5l.94-2.06 2.06-.94-2.06-.94L8.5 2.5l-.94 2.06-2.06.94zm10 10l.94 2.06.94-2.06 2.06-.94-2.06-.94-.94-2.06-.94 2.06-2.06.94z\"/><path d=\"M17.41 7.96l-1.37-1.37c-.4-.4-.92-.59-1.43-.59-.52 0-1.04.2-1.43.59L10.3 9.45l-7.72 7.72c-.78.78-.78 2.05 0 2.83L4 21.41c.39.39.9.59 1.41.59.51 0 1.02-.2 1.41-.59l7.78-7.78 2.81-2.81c.8-.78.8-2.07 0-2.86zM5.41 20L4 18.59l7.72-7.72 1.47 1.35L5.41 20z\"/>\n",
              "  </svg>\n",
              "      </button>\n",
              "      \n",
              "  <style>\n",
              "    .colab-df-container {\n",
              "      display:flex;\n",
              "      flex-wrap:wrap;\n",
              "      gap: 12px;\n",
              "    }\n",
              "\n",
              "    .colab-df-convert {\n",
              "      background-color: #E8F0FE;\n",
              "      border: none;\n",
              "      border-radius: 50%;\n",
              "      cursor: pointer;\n",
              "      display: none;\n",
              "      fill: #1967D2;\n",
              "      height: 32px;\n",
              "      padding: 0 0 0 0;\n",
              "      width: 32px;\n",
              "    }\n",
              "\n",
              "    .colab-df-convert:hover {\n",
              "      background-color: #E2EBFA;\n",
              "      box-shadow: 0px 1px 2px rgba(60, 64, 67, 0.3), 0px 1px 3px 1px rgba(60, 64, 67, 0.15);\n",
              "      fill: #174EA6;\n",
              "    }\n",
              "\n",
              "    [theme=dark] .colab-df-convert {\n",
              "      background-color: #3B4455;\n",
              "      fill: #D2E3FC;\n",
              "    }\n",
              "\n",
              "    [theme=dark] .colab-df-convert:hover {\n",
              "      background-color: #434B5C;\n",
              "      box-shadow: 0px 1px 3px 1px rgba(0, 0, 0, 0.15);\n",
              "      filter: drop-shadow(0px 1px 2px rgba(0, 0, 0, 0.3));\n",
              "      fill: #FFFFFF;\n",
              "    }\n",
              "  </style>\n",
              "\n",
              "      <script>\n",
              "        const buttonEl =\n",
              "          document.querySelector('#df-50c07cf6-d269-4ba2-9e49-50a47a5ad459 button.colab-df-convert');\n",
              "        buttonEl.style.display =\n",
              "          google.colab.kernel.accessAllowed ? 'block' : 'none';\n",
              "\n",
              "        async function convertToInteractive(key) {\n",
              "          const element = document.querySelector('#df-50c07cf6-d269-4ba2-9e49-50a47a5ad459');\n",
              "          const dataTable =\n",
              "            await google.colab.kernel.invokeFunction('convertToInteractive',\n",
              "                                                     [key], {});\n",
              "          if (!dataTable) return;\n",
              "\n",
              "          const docLinkHtml = 'Like what you see? Visit the ' +\n",
              "            '<a target=\"_blank\" href=https://colab.research.google.com/notebooks/data_table.ipynb>data table notebook</a>'\n",
              "            + ' to learn more about interactive tables.';\n",
              "          element.innerHTML = '';\n",
              "          dataTable['output_type'] = 'display_data';\n",
              "          await google.colab.output.renderOutput(dataTable, element);\n",
              "          const docLink = document.createElement('div');\n",
              "          docLink.innerHTML = docLinkHtml;\n",
              "          element.appendChild(docLink);\n",
              "        }\n",
              "      </script>\n",
              "    </div>\n",
              "  </div>\n",
              "  "
            ]
          },
          "metadata": {},
          "execution_count": 57
        }
      ]
    },
    {
      "cell_type": "code",
      "source": [],
      "metadata": {
        "id": "iP3aCYB08bDe"
      },
      "execution_count": null,
      "outputs": []
    }
  ]
}